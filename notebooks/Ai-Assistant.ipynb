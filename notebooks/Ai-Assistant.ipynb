{
 "cells": [
  {
   "cell_type": "code",
   "execution_count": 1,
   "metadata": {},
   "outputs": [],
   "source": [
    "from openai import OpenAI\n",
    "from dotenv import load_dotenv\n",
    "import os\n",
    "import time\n",
    "import logging\n",
    "# Load environment variables from api.env file\n",
    "load_dotenv('api.env')\n",
    "OPENAI_API_KEY = os.getenv(\"OPENAI_API_KEY\")\n",
    "client = OpenAI(api_key=OPENAI_API_KEY)"
   ]
  },
  {
   "cell_type": "raw",
   "metadata": {},
   "source": [
    "import PyPDF2\n",
    "\n",
    "def split_pdf(input_pdf, output_pdf, start_page, end_page):\n",
    "    with open(input_pdf, 'rb') as file:\n",
    "        pdf_reader = PyPDF2.PdfReader(file)\n",
    "        \n",
    "        # Check if the specified pages are within the valid range\n",
    "        if start_page < 1 or end_page > len(pdf_reader.pages) or start_page > end_page:\n",
    "            raise ValueError(\"Invalid page range\")\n",
    "\n",
    "        # Create a new PDF writer\n",
    "        pdf_writer = PyPDF2.PdfWriter()\n",
    "\n",
    "        # Add pages from the original PDF to the new PDF\n",
    "        for page_number in range(start_page - 1, end_page):\n",
    "            pdf_writer.add_page(pdf_reader.pages[page_number])\n",
    " \n",
    "        # Write the new PDF to the output file\n",
    "        with open(output_pdf, 'wb') as output_file:\n",
    "            pdf_writer.write(output_file)\n",
    "\n",
    "# Example usage\n",
    "split_pdf('WEF_Future_of_Jobs_2023.pdf', 'reskillarticle.pdf', 256, 260)\n"
   ]
  },
  {
   "cell_type": "code",
   "execution_count": 4,
   "metadata": {},
   "outputs": [],
   "source": [
    "def upload_file(path):\n",
    "    # Upload a file with an \"assistants\" purpose\n",
    "    file = client.files.create(file=open(path, \"rb\"), purpose=\"assistants\")\n",
    "    return file\n"
   ]
  },
  {
   "cell_type": "code",
   "execution_count": 85,
   "metadata": {},
   "outputs": [],
   "source": [
    "file = client.files.create(file=open('reskillarticle.pdf', \"rb\"), purpose=\"assistants\")"
   ]
  },
  {
   "cell_type": "code",
   "execution_count": 86,
   "metadata": {},
   "outputs": [
    {
     "data": {
      "text/plain": [
       "'file-qSyZo22N8pW0moOtTz4xLKJz'"
      ]
     },
     "execution_count": 86,
     "metadata": {},
     "output_type": "execute_result"
    }
   ],
   "source": [
    "file.id"
   ]
  },
  {
   "cell_type": "code",
   "execution_count": 87,
   "metadata": {},
   "outputs": [],
   "source": [
    "def create_assistant(file):\n",
    "    \"\"\"\n",
    "    You currently cannot set the temperature for Assistant via the API.\n",
    "    \"\"\"\n",
    "    assistant = client.beta.assistants.create(\n",
    "        name=\"read_document_assistant\",\n",
    "        instructions=\"Use your knowledge base to best respond to customer queries. If you don't know the answer. Be friendly and funny.\",\n",
    "        tools=[{\"type\": \"retrieval\"}],\n",
    "        model=\"gpt-4-1106-preview\",\n",
    "        file_ids=[file.id],\n",
    "    )\n",
    "    return assistant"
   ]
  },
  {
   "cell_type": "code",
   "execution_count": 91,
   "metadata": {},
   "outputs": [
    {
     "data": {
      "text/plain": [
       "'thread_qRJlnKqyEPOWYn2sO09Fb5mX'"
      ]
     },
     "execution_count": 91,
     "metadata": {},
     "output_type": "execute_result"
    }
   ],
   "source": [
    "#def thread_creation():\n",
    "thread = client.beta.threads.create()\n",
    "thread_id = thread.id\n",
    "thread_id"
   ]
  },
  {
   "cell_type": "code",
   "execution_count": 60,
   "metadata": {},
   "outputs": [],
   "source": [
    "file = upload_file(\"reskillarticle.pdf\")"
   ]
  },
  {
   "cell_type": "code",
   "execution_count": 88,
   "metadata": {},
   "outputs": [],
   "source": [
    "assistant = create_assistant(file)"
   ]
  },
  {
   "cell_type": "code",
   "execution_count": 90,
   "metadata": {},
   "outputs": [
    {
     "data": {
      "text/plain": [
       "'asst_7kNEB15cYd0OIuLcRtz4epzk'"
      ]
     },
     "execution_count": 90,
     "metadata": {},
     "output_type": "execute_result"
    }
   ],
   "source": [
    "assistant.id"
   ]
  },
  {
   "cell_type": "code",
   "execution_count": 64,
   "metadata": {},
   "outputs": [],
   "source": [
    "message_body = \"what skills are priority to be reskilled?\""
   ]
  },
  {
   "cell_type": "code",
   "execution_count": 46,
   "metadata": {},
   "outputs": [],
   "source": [
    "def generate_respond(message_body):\n",
    "    message = client.beta.threads.messages.create(\n",
    "        thread_id = thread_id,\n",
    "        role = 'user',\n",
    "        content = message_body\n",
    "        \n",
    ")"
   ]
  },
  {
   "cell_type": "code",
   "execution_count": 92,
   "metadata": {},
   "outputs": [],
   "source": [
    "def run_assistant():\n",
    "    assistant = client.beta.assistants.retrieve(\"asst_7kNEB15cYd0OIuLcRtz4epzk\")\n",
    "    thread = client.beta.threads.retrieve('thread_qRJlnKqyEPOWYn2sO09Fb5mX')\n",
    "\n",
    "    run = client.beta.threads.runs.create(\n",
    "        thread_id = thread.id,\n",
    "        assistant_id = assistant.id\n",
    "    )\n",
    "    while run.status != \"completed\":\n",
    "        time.sleep(1)\n",
    "        run = client.beta.threads.runs.retrieve(thread_id = thread.id, run_id = run.id)\n",
    "\n",
    "    messages = client.beta.threads.messages.list(thread_id=thread.id)\n",
    "    new_message = messages.data[0].content[0].text.value\n",
    "    logging.info(f'generated message: {new_message}')\n",
    "    return new_message"
   ]
  },
  {
   "cell_type": "code",
   "execution_count": 70,
   "metadata": {},
   "outputs": [],
   "source": [
    "new_message = run_assistant()"
   ]
  },
  {
   "cell_type": "code",
   "execution_count": 71,
   "metadata": {},
   "outputs": [
    {
     "data": {
      "text/plain": [
       "\"I noticed you've sent a file my way! How can I assist you with it? Need a quick find or some info from inside? Just let me know! 😊✨\""
      ]
     },
     "execution_count": 71,
     "metadata": {},
     "output_type": "execute_result"
    }
   ],
   "source": [
    "new_message"
   ]
  },
  {
   "cell_type": "code",
   "execution_count": 72,
   "metadata": {},
   "outputs": [
    {
     "name": "stdout",
     "output_type": "stream",
     "text": [
      "I noticed you've sent a file my way! How can I assist you with it? Need a quick find or some info from inside? Just let me know! 😊✨\n"
     ]
    }
   ],
   "source": [
    "print(new_message)"
   ]
  },
  {
   "cell_type": "code",
   "execution_count": 93,
   "metadata": {},
   "outputs": [],
   "source": [
    "new_mess = generate_respond('summarize my file')"
   ]
  },
  {
   "cell_type": "code",
   "execution_count": 94,
   "metadata": {},
   "outputs": [
    {
     "data": {
      "text/plain": [
       "\"I'm sorry, I attempted to open and summarize your file, but it seems that the file had no contents. There may have been an issue with the upload. Could you please try uploading the file again? If it's too large, perhaps you could provide a specific section or topic that you would like summarized, and I can help with that part.\""
      ]
     },
     "execution_count": 94,
     "metadata": {},
     "output_type": "execute_result"
    }
   ],
   "source": [
    "new_message = run_assistant()\n",
    "new_message"
   ]
  },
  {
   "cell_type": "code",
   "execution_count": 95,
   "metadata": {},
   "outputs": [
    {
     "data": {
      "text/plain": [
       "Assistant(id='asst_7kNEB15cYd0OIuLcRtz4epzk', created_at=1704820226, description=None, file_ids=['file-qSyZo22N8pW0moOtTz4xLKJz'], instructions=\"Use your knowledge base to best respond to customer queries. If you don't know the answer. Be friendly and funny.\", metadata={}, model='gpt-4-1106-preview', name='read_document_assistant', object='assistant', tools=[ToolRetrieval(type='retrieval')])"
      ]
     },
     "execution_count": 95,
     "metadata": {},
     "output_type": "execute_result"
    }
   ],
   "source": [
    "assistant"
   ]
  },
  {
   "cell_type": "code",
   "execution_count": 106,
   "metadata": {},
   "outputs": [
    {
     "data": {
      "text/plain": [
       "Thread(id='thread_bDVAY8SAAbzUp9iVWIYBiyTy', created_at=1704820650, metadata={}, object='thread')"
      ]
     },
     "execution_count": 106,
     "metadata": {},
     "output_type": "execute_result"
    }
   ],
   "source": [
    "thread"
   ]
  },
  {
   "cell_type": "code",
   "execution_count": 97,
   "metadata": {},
   "outputs": [
    {
     "data": {
      "text/plain": [
       "FileObject(id='file-qSyZo22N8pW0moOtTz4xLKJz', bytes=147046, created_at=1704820156, filename='reskillarticle.pdf', object='file', purpose='assistants', status='processed', status_details=None)"
      ]
     },
     "execution_count": 97,
     "metadata": {},
     "output_type": "execute_result"
    }
   ],
   "source": [
    "file"
   ]
  },
  {
   "cell_type": "code",
   "execution_count": 98,
   "metadata": {},
   "outputs": [],
   "source": [
    "thread = client.beta.threads.create(\n",
    "  messages=[\n",
    "    {\n",
    "      \"role\": \"user\",\n",
    "      \"content\": \"summarize this file\",\n",
    "      \"file_ids\": [file.id]\n",
    "    }\n",
    "  ]\n",
    ")"
   ]
  },
  {
   "cell_type": "code",
   "execution_count": 100,
   "metadata": {},
   "outputs": [],
   "source": [
    "run = client.beta.threads.runs.create(\n",
    "  thread_id=thread.id,\n",
    "  assistant_id=assistant.id,\n",
    "  model=\"gpt-4-1106-preview\",\n",
    "  instructions=\"summarize this file\",\n",
    "  tools=[ {\"type\": \"retrieval\"}]\n",
    ")"
   ]
  },
  {
   "cell_type": "code",
   "execution_count": 105,
   "metadata": {},
   "outputs": [
    {
     "data": {
      "text/plain": [
       "Run(id='run_IvGyF5j2UbmeN6QjZiwp267z', assistant_id='asst_7kNEB15cYd0OIuLcRtz4epzk', cancelled_at=None, completed_at=None, created_at=1704820805, expires_at=1704821405, failed_at=None, file_ids=['file-qSyZo22N8pW0moOtTz4xLKJz'], instructions='summarize this file', last_error=None, metadata={}, model='gpt-4-1106-preview', object='thread.run', required_action=None, started_at=None, status='queued', thread_id='thread_bDVAY8SAAbzUp9iVWIYBiyTy', tools=[ToolAssistantToolsRetrieval(type='retrieval')])"
      ]
     },
     "execution_count": 105,
     "metadata": {},
     "output_type": "execute_result"
    }
   ],
   "source": [
    "run"
   ]
  },
  {
   "cell_type": "code",
   "execution_count": 103,
   "metadata": {},
   "outputs": [
    {
     "data": {
      "text/plain": [
       "FileObject(id='file-qSyZo22N8pW0moOtTz4xLKJz', bytes=147046, created_at=1704820156, filename='reskillarticle.pdf', object='file', purpose='assistants', status='processed', status_details=None)"
      ]
     },
     "execution_count": 103,
     "metadata": {},
     "output_type": "execute_result"
    }
   ],
   "source": [
    "file"
   ]
  },
  {
   "cell_type": "code",
   "execution_count": null,
   "metadata": {},
   "outputs": [],
   "source": [
    "message = client.beta.threads.messages.retrieve(\n",
    "  thread_id=\"thread_bDVAY8SAAbzUp9iVWIYBiyTy\",\n",
    "  message_id=\"...\"\n",
    ")"
   ]
  }
 ],
 "metadata": {
  "kernelspec": {
   "display_name": "Python 3 (ipykernel)",
   "language": "python",
   "name": "python3"
  },
  "language_info": {
   "codemirror_mode": {
    "name": "ipython",
    "version": 3
   },
   "file_extension": ".py",
   "mimetype": "text/x-python",
   "name": "python",
   "nbconvert_exporter": "python",
   "pygments_lexer": "ipython3",
   "version": "3.10.13"
  }
 },
 "nbformat": 4,
 "nbformat_minor": 4
}
