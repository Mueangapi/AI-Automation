{
 "cells": [
  {
   "cell_type": "code",
   "execution_count": 9,
   "id": "dbf5ce1c-d5f5-4792-bb0b-3c80c537e585",
   "metadata": {},
   "outputs": [],
   "source": [
    "from openai import OpenAI\n",
    "import shelve\n",
    "from dotenv import load_dotenv\n",
    "import os\n",
    "import time\n",
    "\n",
    "load_dotenv('api.env')\n",
    "OPENAI_API_KEY = os.getenv(\"OPENAI_API_KEY\")\n",
    "client = OpenAI(api_key=OPENAI_API_KEY)\n",
    "\n",
    "\n",
    "# --------------------------------------------------------------\n",
    "# Upload file\n",
    "# --------------------------------------------------------------\n",
    "def upload_file(path):\n",
    "    # Upload a file with an \"assistants\" purpose\n",
    "    file = client.files.create(file=open(path, \"rb\"), purpose=\"assistants\")\n",
    "    return file\n",
    "\n",
    "\n",
    "file = upload_file(\"reskillarticle.pdf\")\n",
    "\n",
    "\n",
    "# --------------------------------------------------------------\n",
    "# Create assistant\n",
    "# --------------------------------------------------------------\n",
    "def create_assistant(file):\n",
    "    \"\"\"\n",
    "    You currently cannot set the temperature for Assistant via the API.\n",
    "    \"\"\"\n",
    "    assistant = client.beta.assistants.create(\n",
    "        name=\"summary Assistant\",\n",
    "        instructions=\"summarize my file If you don't know the answer, say simply that you cannot help with question\",\n",
    "        tools=[{\"type\": \"retrieval\"}],\n",
    "        model=\"gpt-4-1106-preview\",\n",
    "        file_ids=[file.id],\n",
    "    )\n",
    "    return assistant\n",
    "\n",
    "\n",
    "\n",
    "\n",
    "# --------------------------------------------------------------\n",
    "# Thread management\n",
    "# --------------------------------------------------------------\n",
    "def check_if_thread_exists(wa_id):\n",
    "    with shelve.open(\"threads_db\") as threads_shelf:\n",
    "        return threads_shelf.get(wa_id, None)\n",
    "\n",
    "\n",
    "def store_thread(wa_id, thread_id):\n",
    "    with shelve.open(\"threads_db\", writeback=True) as threads_shelf:\n",
    "        threads_shelf[wa_id] = thread_id\n",
    "\n",
    "\n",
    "# --------------------------------------------------------------\n",
    "# Generate response\n",
    "# --------------------------------------------------------------\n",
    "def generate_response(message_body, wa_id, name):\n",
    "    # Check if there is already a thread_id for the wa_id\n",
    "    thread_id = check_if_thread_exists(wa_id)\n",
    "\n",
    "    # If a thread doesn't exist, create one and store it\n",
    "    if thread_id is None:\n",
    "        print(f\"Creating new thread for {name} with wa_id {wa_id}\")\n",
    "        thread = client.beta.threads.create()\n",
    "        store_thread(wa_id, thread.id)\n",
    "        thread_id = thread.id\n",
    "\n",
    "    # Otherwise, retrieve the existing thread\n",
    "    else:\n",
    "        print(f\"Retrieving existing thread for {name} with wa_id {wa_id}\")\n",
    "        thread = client.beta.threads.retrieve(thread_id)\n",
    "\n",
    "    # Add message to thread\n",
    "    message = client.beta.threads.messages.create(\n",
    "        thread_id=thread_id,\n",
    "        role=\"user\",\n",
    "        content=message_body,\n",
    "    )\n",
    "\n",
    "    # Run the assistant and get the new message\n",
    "    new_message = run_assistant(thread)\n",
    "    print(f\"To {name}:\", new_message)\n",
    "    return new_message\n",
    "\n",
    "\n",
    "# --------------------------------------------------------------\n",
    "# Run assistant\n",
    "# --------------------------------------------------------------\n",
    "def run_assistant(thread):\n",
    "    # Retrieve the Assistant\n",
    "    assistant = client.beta.assistants.retrieve(\"asst_lAzedxnMzi9TCjFBf91cCYam\")\n",
    "\n",
    "    # Run the assistant\n",
    "    run = client.beta.threads.runs.create(\n",
    "        thread_id=thread.id,\n",
    "        assistant_id=assistant.id,\n",
    "    )\n",
    "\n",
    "    # Wait for completion\n",
    "    while run.status != \"completed\":\n",
    "        # Be nice to the API\n",
    "        time.sleep(0.5)\n",
    "        run = client.beta.threads.runs.retrieve(thread_id=thread.id, run_id=run.id)\n",
    "\n",
    "    # Retrieve the Messages\n",
    "    messages = client.beta.threads.messages.list(thread_id=thread.id)\n",
    "    new_message = messages.data[0].content[0].text.value\n",
    "    print(f\"Generated message: {new_message}\")\n",
    "    return new_message\n",
    "\n",
    "\n",
    "\n"
   ]
  },
  {
   "cell_type": "code",
   "execution_count": 12,
   "id": "7119213f-d112-48fe-a6e1-e40df61900a9",
   "metadata": {},
   "outputs": [
    {
     "data": {
      "text/plain": [
       "'asst_YR0sssEyVbj04HXMkQfMPFIX'"
      ]
     },
     "execution_count": 12,
     "metadata": {},
     "output_type": "execute_result"
    }
   ],
   "source": [
    "assistant = create_assistant(file)\n",
    "assistant.id"
   ]
  },
  {
   "cell_type": "code",
   "execution_count": 10,
   "id": "85124464-0e2b-4a8b-b1fd-5d8465d3c8ba",
   "metadata": {},
   "outputs": [
    {
     "name": "stdout",
     "output_type": "stream",
     "text": [
      "Retrieving existing thread for Mueang with wa_id 123\n",
      "Generated message: The document appears to be the \"Future of Jobs Report 2023\" and focuses on skill profiles for various competencies that are deemed important for the current job market and for reskilling purposes. The report includes detailed analyses on skills like analytical thinking and environmental stewardship, examining their importance in the job market, trends in the need for these skills, the time required to develop them, and the roles for which these skills are increasingly important.\n",
      "\n",
      "Analytical thinking is ranked as the top skill for reskilling, with a focus on the trend over the past five years, its importance to companies, and job growth related to roles where this skill is becoming more important. For example, it highlights that roles in business development show a net job growth of 21% where analytical thinking is increasing in importance. The report also shows learning hours needed for various levels of proficiency in analytical thinking based on the learner's educational background.\n",
      "\n",
      "Environmental stewardship is another skill profiled in the report, ranked 13th in reskilling ranking. The report provides similar details as it does for analytical thinking, such as the five-year trend, the focus of reskilling programs, and strategically adjacent skills.\n",
      "\n",
      "The document provides statistics and insights into the industry trends related to these skills and their implications on the labor market from 2023 to 2027. Companies' strategic focus on these skills, including the rate at which they are considered for upskilling and reskilling programs, is also included.\n",
      "\n",
      "Overall, the report seems to offer a comprehensive look at how various skills are perceived in terms of their importance, their role in shaping job markets, and reskilling efforts companies are undertaking or should consider for their workforce to keep up with industry demands. It is a data-driven analysis that could guide decision-makers in tailored workforce development strategies.\n",
      "To Mueang: The document appears to be the \"Future of Jobs Report 2023\" and focuses on skill profiles for various competencies that are deemed important for the current job market and for reskilling purposes. The report includes detailed analyses on skills like analytical thinking and environmental stewardship, examining their importance in the job market, trends in the need for these skills, the time required to develop them, and the roles for which these skills are increasingly important.\n",
      "\n",
      "Analytical thinking is ranked as the top skill for reskilling, with a focus on the trend over the past five years, its importance to companies, and job growth related to roles where this skill is becoming more important. For example, it highlights that roles in business development show a net job growth of 21% where analytical thinking is increasing in importance. The report also shows learning hours needed for various levels of proficiency in analytical thinking based on the learner's educational background.\n",
      "\n",
      "Environmental stewardship is another skill profiled in the report, ranked 13th in reskilling ranking. The report provides similar details as it does for analytical thinking, such as the five-year trend, the focus of reskilling programs, and strategically adjacent skills.\n",
      "\n",
      "The document provides statistics and insights into the industry trends related to these skills and their implications on the labor market from 2023 to 2027. Companies' strategic focus on these skills, including the rate at which they are considered for upskilling and reskilling programs, is also included.\n",
      "\n",
      "Overall, the report seems to offer a comprehensive look at how various skills are perceived in terms of their importance, their role in shaping job markets, and reskilling efforts companies are undertaking or should consider for their workforce to keep up with industry demands. It is a data-driven analysis that could guide decision-makers in tailored workforce development strategies.\n"
     ]
    },
    {
     "data": {
      "text/plain": [
       "'The document appears to be the \"Future of Jobs Report 2023\" and focuses on skill profiles for various competencies that are deemed important for the current job market and for reskilling purposes. The report includes detailed analyses on skills like analytical thinking and environmental stewardship, examining their importance in the job market, trends in the need for these skills, the time required to develop them, and the roles for which these skills are increasingly important.\\n\\nAnalytical thinking is ranked as the top skill for reskilling, with a focus on the trend over the past five years, its importance to companies, and job growth related to roles where this skill is becoming more important. For example, it highlights that roles in business development show a net job growth of 21% where analytical thinking is increasing in importance. The report also shows learning hours needed for various levels of proficiency in analytical thinking based on the learner\\'s educational background.\\n\\nEnvironmental stewardship is another skill profiled in the report, ranked 13th in reskilling ranking. The report provides similar details as it does for analytical thinking, such as the five-year trend, the focus of reskilling programs, and strategically adjacent skills.\\n\\nThe document provides statistics and insights into the industry trends related to these skills and their implications on the labor market from 2023 to 2027. Companies\\' strategic focus on these skills, including the rate at which they are considered for upskilling and reskilling programs, is also included.\\n\\nOverall, the report seems to offer a comprehensive look at how various skills are perceived in terms of their importance, their role in shaping job markets, and reskilling efforts companies are undertaking or should consider for their workforce to keep up with industry demands. It is a data-driven analysis that could guide decision-makers in tailored workforce development strategies.'"
      ]
     },
     "execution_count": 10,
     "metadata": {},
     "output_type": "execute_result"
    }
   ],
   "source": [
    "new_message = generate_response(\"summarize pdf\", \"123\", \"Mueang\")\n",
    "\n",
    "new_message"
   ]
  },
  {
   "cell_type": "code",
   "execution_count": 11,
   "id": "ce9af8c2-b20c-47bb-957a-342fde67dba0",
   "metadata": {},
   "outputs": [
    {
     "name": "stdout",
     "output_type": "stream",
     "text": [
      "Retrieving existing thread for Mueang with wa_id 123\n",
      "Generated message: Yes, your last question was asking for the check-in time, which appeared to be related to a document or some sort of schedule. Would you like me to find the check-in time in the PDF file I just summarized?\n",
      "To Mueang: Yes, your last question was asking for the check-in time, which appeared to be related to a document or some sort of schedule. Would you like me to find the check-in time in the PDF file I just summarized?\n"
     ]
    },
    {
     "data": {
      "text/plain": [
       "'Yes, your last question was asking for the check-in time, which appeared to be related to a document or some sort of schedule. Would you like me to find the check-in time in the PDF file I just summarized?'"
      ]
     },
     "execution_count": 11,
     "metadata": {},
     "output_type": "execute_result"
    }
   ],
   "source": [
    "new_message = generate_response(\"could you remember my last question?\", \"123\", \"Mueang\")\n",
    "\n",
    "new_message"
   ]
  },
  {
   "cell_type": "code",
   "execution_count": 16,
   "id": "94278368-a650-4ff1-b4d5-f5be9e6de0e8",
   "metadata": {},
   "outputs": [
    {
     "ename": "NameError",
     "evalue": "name 'thread_id' is not defined",
     "output_type": "error",
     "traceback": [
      "\u001b[0;31m---------------------------------------------------------------------------\u001b[0m",
      "\u001b[0;31mNameError\u001b[0m                                 Traceback (most recent call last)",
      "Cell \u001b[0;32mIn[16], line 1\u001b[0m\n\u001b[0;32m----> 1\u001b[0m \u001b[43mthread_id\u001b[49m\n",
      "\u001b[0;31mNameError\u001b[0m: name 'thread_id' is not defined"
     ]
    }
   ],
   "source": [
    "thread_id"
   ]
  },
  {
   "cell_type": "code",
   "execution_count": 17,
   "id": "d630e398-9397-429c-ae02-cde1f82ade0f",
   "metadata": {},
   "outputs": [
    {
     "name": "stdout",
     "output_type": "stream",
     "text": [
      "Retrieving existing thread for Mueang with wa_id 123\n",
      "Generated message: Your previous question was to summarize the PDF document. Before that, you asked about the check-in time, presumably within some context that might be part of the uploaded file. Would you like me to find the check-in time in the PDF that I summarized, or assist with something else regarding the content of the document?\n",
      "To Mueang: Your previous question was to summarize the PDF document. Before that, you asked about the check-in time, presumably within some context that might be part of the uploaded file. Would you like me to find the check-in time in the PDF that I summarized, or assist with something else regarding the content of the document?\n"
     ]
    },
    {
     "data": {
      "text/plain": [
       "'Your previous question was to summarize the PDF document. Before that, you asked about the check-in time, presumably within some context that might be part of the uploaded file. Would you like me to find the check-in time in the PDF that I summarized, or assist with something else regarding the content of the document?'"
      ]
     },
     "execution_count": 17,
     "metadata": {},
     "output_type": "execute_result"
    }
   ],
   "source": [
    "new_message = generate_response(\"could you remember my last question?\", \"123\", \"Mueang\")\n",
    "\n",
    "new_message"
   ]
  },
  {
   "cell_type": "code",
   "execution_count": null,
   "id": "c06f37df-f855-428d-bc5c-0a27f2ea0b3c",
   "metadata": {},
   "outputs": [],
   "source": []
  }
 ],
 "metadata": {
  "kernelspec": {
   "display_name": "Python 3 (ipykernel)",
   "language": "python",
   "name": "python3"
  },
  "language_info": {
   "codemirror_mode": {
    "name": "ipython",
    "version": 3
   },
   "file_extension": ".py",
   "mimetype": "text/x-python",
   "name": "python",
   "nbconvert_exporter": "python",
   "pygments_lexer": "ipython3",
   "version": "3.10.13"
  }
 },
 "nbformat": 4,
 "nbformat_minor": 5
}
